{
 "cells": [
  {
   "cell_type": "markdown",
   "id": "9f95be4d",
   "metadata": {},
   "source": [
    "Thank THE LINK TO MY GITHUB REPO IS :\n",
    "    "
   ]
  },
  {
   "cell_type": "code",
   "execution_count": 1,
   "id": "39416181",
   "metadata": {},
   "outputs": [],
   "source": [
    "#Importing all the required libraries\n",
    "import numpy as np \n",
    "import pandas as pd\n",
    "import warnings\n",
    "warnings.filterwarnings('ignore')"
   ]
  },
  {
   "cell_type": "markdown",
   "id": "a3f3b8eb",
   "metadata": {},
   "source": [
    "1.(10 Points) Write a Python/NumPy code block that creates a new array containing only one instance of any item that \n",
    "appears within all three of these arrays: \n",
    "\n",
    "a = np.array([1, 2, 3, 2, 3, 4, 3, 4, 5, 6]) \n",
    "\n",
    "\n",
    "b = np.array([7, 2, 10, 2, 7, 4, 9, 4, 9, 8]) \n",
    "\n",
    "\n",
    "c = np.array([12, 8, 3, 7, 4, 1, 2, 9, 3, 4]) \n",
    "\n",
    "\n",
    "Your output should contain only the unique overlapping values. For example, if a 2 is found in arrays a, b and c, your \n",
    "output should contain only one 2 even if any of the arrays contains more than one 2 within it. "
   ]
  },
  {
   "cell_type": "code",
   "execution_count": 2,
   "id": "9e49941f",
   "metadata": {},
   "outputs": [],
   "source": [
    "#Initializing the arrays\n",
    "a = np.array([1, 2, 3, 2, 3, 4, 3, 4, 5, 6])\n",
    "\n",
    "b = np.array([7, 2, 10, 2, 7, 4, 9, 4, 9, 8])\n",
    "\n",
    "c = np.array([12, 8, 3, 7, 4, 1, 2, 9, 3, 4])"
   ]
  },
  {
   "cell_type": "code",
   "execution_count": 3,
   "id": "16b669f9",
   "metadata": {},
   "outputs": [],
   "source": [
    "#Using intersect1d function for finding the intersection of the arrays a and b\n",
    "d=np.intersect1d(a,b)"
   ]
  },
  {
   "cell_type": "code",
   "execution_count": 4,
   "id": "9fd57601",
   "metadata": {},
   "outputs": [],
   "source": [
    "#Using intersect1d function for finding the intersection of the arrays d and c\n",
    "d=np.intersect1d(d,c)"
   ]
  },
  {
   "cell_type": "code",
   "execution_count": 5,
   "id": "984bb411",
   "metadata": {},
   "outputs": [
    {
     "data": {
      "text/plain": [
       "array([2, 4])"
      ]
     },
     "execution_count": 5,
     "metadata": {},
     "output_type": "execute_result"
    }
   ],
   "source": [
    "#Displaying the array d \n",
    "d"
   ]
  },
  {
   "cell_type": "markdown",
   "id": "01a79715",
   "metadata": {},
   "source": [
    "2.(10 Points) Create the following 3x6 array using knowledge you have of Python’s / NumPy’s  sequencing functionality \n",
    "so that you do not need to explicitly key in every integer value. \n",
    "\n",
    "1 4 7 10 13 16 \n",
    "2 5 8 11 14 17 \n",
    "3 6 9 12 15 18 \n"
   ]
  },
  {
   "cell_type": "code",
   "execution_count": 6,
   "id": "ae7a14f0",
   "metadata": {},
   "outputs": [],
   "source": [
    "#Using arange and Transpose to find the answer\n",
    "x=(np.arange(1,19).reshape(6,3)).T"
   ]
  },
  {
   "cell_type": "code",
   "execution_count": 7,
   "id": "fba0c6c2",
   "metadata": {},
   "outputs": [
    {
     "data": {
      "text/plain": [
       "array([[ 1,  4,  7, 10, 13, 16],\n",
       "       [ 2,  5,  8, 11, 14, 17],\n",
       "       [ 3,  6,  9, 12, 15, 18]])"
      ]
     },
     "execution_count": 7,
     "metadata": {},
     "output_type": "execute_result"
    }
   ],
   "source": [
    "#Displaying the resulting array\n",
    "x"
   ]
  },
  {
   "cell_type": "markdown",
   "id": "5a8009b0",
   "metadata": {},
   "source": [
    "3.(10 Points) The process of transforming a multidimensional array into a unidimensional array is referred to as \n",
    "“flattening”. Transform the 3x6 array shown above in Problem 2 into a unidimensional array such that the sequence of \n",
    "values contained within the array is as follows: 1, 2, 3, 4, 5, 6, 7, 8, 9, 10, 11, 12, 13, 14, 15, 16, 17, 18 \n",
    " "
   ]
  },
  {
   "cell_type": "code",
   "execution_count": 8,
   "id": "f9e731e6",
   "metadata": {},
   "outputs": [],
   "source": [
    "#Flattening the array and storing in y \n",
    "y=x.T.flatten()"
   ]
  },
  {
   "cell_type": "code",
   "execution_count": 9,
   "id": "c74b18dd",
   "metadata": {},
   "outputs": [
    {
     "data": {
      "text/plain": [
       "array([ 1,  2,  3,  4,  5,  6,  7,  8,  9, 10, 11, 12, 13, 14, 15, 16, 17,\n",
       "       18])"
      ]
     },
     "execution_count": 9,
     "metadata": {},
     "output_type": "execute_result"
    }
   ],
   "source": [
    "#Displaying y \n",
    "y"
   ]
  },
  {
   "cell_type": "markdown",
   "id": "8c1f687a",
   "metadata": {},
   "source": [
    "4.(15 Points) Transform the 2-D array shown in Problem 2 into a 3 dimensional NumPy array "
   ]
  },
  {
   "cell_type": "code",
   "execution_count": 10,
   "id": "89178930",
   "metadata": {},
   "outputs": [
    {
     "data": {
      "text/plain": [
       "array([[ 1,  4,  7, 10, 13, 16],\n",
       "       [ 2,  5,  8, 11, 14, 17],\n",
       "       [ 3,  6,  9, 12, 15, 18]])"
      ]
     },
     "execution_count": 10,
     "metadata": {},
     "output_type": "execute_result"
    }
   ],
   "source": [
    "#Displaying the array to reshape\n",
    "x"
   ]
  },
  {
   "cell_type": "code",
   "execution_count": 11,
   "id": "fec7abf1",
   "metadata": {},
   "outputs": [
    {
     "data": {
      "text/plain": [
       "array([[[ 1,  4,  7],\n",
       "        [10, 13, 16],\n",
       "        [ 2,  5,  8]],\n",
       "\n",
       "       [[11, 14, 17],\n",
       "        [ 3,  6,  9],\n",
       "        [12, 15, 18]]])"
      ]
     },
     "execution_count": 11,
     "metadata": {},
     "output_type": "execute_result"
    }
   ],
   "source": [
    "#Reshaping the array to 3D\n",
    "x.reshape(2,3,3)"
   ]
  },
  {
   "cell_type": "markdown",
   "id": "2d033c94",
   "metadata": {},
   "source": [
    "5.(15 Points) Transform the 3-D array you created in Problem 4 back to the 3x6  2-dimensional format shown in \n",
    "Problem 2. "
   ]
  },
  {
   "cell_type": "code",
   "execution_count": 12,
   "id": "37c87bff",
   "metadata": {},
   "outputs": [
    {
     "data": {
      "text/plain": [
       "array([[ 1,  4,  7, 10, 13, 16],\n",
       "       [ 2,  5,  8, 11, 14, 17],\n",
       "       [ 3,  6,  9, 12, 15, 18]])"
      ]
     },
     "execution_count": 12,
     "metadata": {},
     "output_type": "execute_result"
    }
   ],
   "source": [
    "#Reshaping the 3D array back to 3X6\n",
    "x.reshape(3,6)"
   ]
  },
  {
   "cell_type": "markdown",
   "id": "f6e1cd6e",
   "metadata": {},
   "source": [
    "6.(10 Points) You are given the following three arrays: \n",
    "\n",
    "a = np.array([12, 5, 7, 15, 3, 1, 8, 9, 2]) \n",
    "\n",
    "b = np.array([14, 2, 6, 3, 11, 19, 9, 12, 5]) \n",
    "\n",
    "c = np.array([1, 12, 4, 3, 13, 1, 9, 12, 5, 7]) \n",
    "\n",
    "Write a Python/Numpy code block that removes from array a any items that are also present in either array b or array c. "
   ]
  },
  {
   "cell_type": "code",
   "execution_count": 13,
   "id": "bb29a39a",
   "metadata": {},
   "outputs": [],
   "source": [
    "#Initializing the arrays \n",
    "a = np.array([12, 5, 7, 15, 3, 1, 8, 9, 2])\n",
    "\n",
    "b = np.array([14, 2, 6, 3, 11, 19, 9, 12, 5])\n",
    "\n",
    "c = np.array([1, 12, 4, 3, 13, 1, 9, 12, 5, 7])"
   ]
  },
  {
   "cell_type": "code",
   "execution_count": 14,
   "id": "0a045829",
   "metadata": {},
   "outputs": [],
   "source": [
    "#Creating a function \n",
    "def remove(a,b,c) :\n",
    "    '''A function that takes 3 inputs and returns an list having the values that are not present in the tow other arrays that are passed '''\n",
    "    d=set(a)-set(b)-set(c)\n",
    "    return list(d)"
   ]
  },
  {
   "cell_type": "code",
   "execution_count": 15,
   "id": "1537ff5b",
   "metadata": {},
   "outputs": [
    {
     "name": "stdout",
     "output_type": "stream",
     "text": [
      "[8, 15]\n"
     ]
    }
   ],
   "source": [
    "#Printing the output after running the fucntion\n",
    "print((remove(a,b,c)))"
   ]
  },
  {
   "cell_type": "markdown",
   "id": "b3cc6ad3",
   "metadata": {},
   "source": [
    "7.(30 Points) For this problem you will load a small data set to your online GitHub repository and then read it into a \n",
    "NumPy 2D array. You will then use the content that NumPy array to answer a series of analytical questions.\n",
    "\n",
    "The original source of the data set contains an overview of its content:  \n",
    "\n",
    "https://data.cityofnewyork.us/Environment/Water-Consumption-In-The-New-York-City/ia2d-e54m \n",
    "\n",
    "Scroll down to the bottom of that page to access the interactive data viewer that includes the column headings for the \n",
    "data.  Once you are comfortable in your understanding of the various data attributes, get started on the assignment as \n",
    "follows: \n",
    "\n",
    "1) Load the provided M6_Data.csv file to your online AIM 5001 Github Repository.  \n",
    "\n",
    "2) Then, from within your M6 Assignment Jupyter Notebook, read the data set from your Github repository and load it into a Pandas dataframe using the code snippet provided below.  ** Please note that you will need to replace the 'link_to_raw_copy of data file in your Github Repository placeholder shown below with a link to the “raw” version of the file you pushed to your online GitHub repository. ** \n",
    "\n",
    "\n",
    "Copy the following small Python code snippet into your Jupyter Notebook: "
   ]
  },
  {
   "cell_type": "code",
   "execution_count": 16,
   "id": "1eaeebeb",
   "metadata": {},
   "outputs": [
    {
     "data": {
      "text/plain": [
       "numpy.ndarray"
      ]
     },
     "execution_count": 16,
     "metadata": {},
     "output_type": "execute_result"
    }
   ],
   "source": [
    "import pandas \n",
    "import numpy as np \n",
    " \n",
    "# supress scientific notation \n",
    "np.set_printoptions(suppress = True) \n",
    " \n",
    "# read the data file from GitHub and convert to a NumPy ndarray object \n",
    "# be sure to replace the ‘link_to_raw_copy of data file in your Github Repository’ placeholder shown below \n",
    "# with a link to the “raw” version of the file you pushed to your online GitHub repository \n",
    " \n",
    "nyc_water = pandas.read_csv('https://raw.githubusercontent.com/KenK99/AIM5002-Reiyo/main/Module6_Data.csv').to_numpy() \n",
    " \n",
    "# verify you have an ndarray object \n",
    "type(nyc_water) "
   ]
  },
  {
   "cell_type": "markdown",
   "id": "4ddd2560",
   "metadata": {},
   "source": [
    "This code will read the contents of the provided data file into a NumPy ndarray object. Execute the code within your \n",
    "Jupyter Notebook. If successful, the output of the type(nyc_water) function should be: numpy.ndarray \n",
    "Using the nyc_water array you’ve created, answer the following questions using NumPy’s indexing, slicing, methods, and \n",
    "functions: \n",
    "\n",
    " Which year had the minimum population amount? \n",
    "\n",
    " \n",
    " Add a new column to the numpy array containing the total annual water consumption for the city (in millions \n",
    "of gallons of water and assuming a 365 day calendar year).  \n",
    " \n",
    " \n",
    " What is the median and the variance of the NYC daily water consumption metric? \n",
    "\n",
    " \n",
    " What is the increase or decrease in total annual water consumption from year to year?  (HINT: Your output \n",
    "should include the calculation of a data value for every year represented within the data set except for the first \n",
    "year). \n",
    "\n",
    "Please note that it may take a bit of time for Jupyter to load the data set from your GitHub repository.  You will know \n",
    "that process has finished once the results of the ‘type(nyc_water)’ command get displayed within your copy of the \n",
    "notebook."
   ]
  },
  {
   "cell_type": "code",
   "execution_count": 17,
   "id": "cb700b72",
   "metadata": {},
   "outputs": [
    {
     "data": {
      "text/plain": [
       "array([[   1979. , 7102100. ,    1512. ,     213. ],\n",
       "       [   1980. , 7071639. ,    1506. ,     213. ],\n",
       "       [   1981. , 7089241. ,    1309. ,     185. ],\n",
       "       [   1982. , 7109105. ,    1382. ,     194. ],\n",
       "       [   1983. , 7181224. ,    1424. ,     198. ],\n",
       "       [   1984. , 7234514. ,    1465. ,     203. ],\n",
       "       [   1985. , 7274054. ,    1326. ,     182. ],\n",
       "       [   1986. , 7319246. ,    1351. ,     185. ],\n",
       "       [   1987. , 7342476. ,    1447. ,     197. ],\n",
       "       [   1988. , 7353719. ,    1484. ,     202. ],\n",
       "       [   1989. , 7344175. ,    1402. ,     191. ],\n",
       "       [   1990. , 7335650. ,    1424. ,     194. ],\n",
       "       [   1991. , 7374501. ,    1469. ,     199. ],\n",
       "       [   1992. , 7428944. ,    1369. ,     184. ],\n",
       "       [   1993. , 7506166. ,    1368.5,     182. ],\n",
       "       [   1994. , 7570458. ,    1357.7,     179. ],\n",
       "       [   1995. , 7633040. ,    1325.7,     174. ],\n",
       "       [   1996. , 7697812. ,    1297.9,     169. ],\n",
       "       [   1997. , 7773443. ,    1205.5,     155. ],\n",
       "       [   1998. , 7858259. ,    1219.5,     155. ],\n",
       "       [   1999. , 7947660. ,    1237.2,     156. ],\n",
       "       [   2000. , 8008278. ,    1240.4,     155. ],\n",
       "       [   2001. , 8024963.5,    1184. ,     148. ],\n",
       "       [   2002. , 8041649. ,    1135.6,     141. ],\n",
       "       [   2003. , 8058334.5,    1093.7,     136. ],\n",
       "       [   2004. , 8075020. ,    1099.5,     136. ],\n",
       "       [   2005. , 8091705.5,    1138. ,     141. ],\n",
       "       [   2006. , 8108391. ,    1069. ,     132. ],\n",
       "       [   2007. , 8125076.5,    1114. ,     137. ],\n",
       "       [   2008. , 8141762. ,    1098. ,     135. ],\n",
       "       [   2009. , 8158447.5,    1007.5,     123. ],\n",
       "       [   2010. , 8175133. ,    1039. ,     127. ],\n",
       "       [   2011. , 8284098. ,    1021. ,     123. ],\n",
       "       [   2012. , 8361179. ,    1009.1,     121. ],\n",
       "       [   2013. , 8422460. ,    1006.1,     119. ],\n",
       "       [   2014. , 8471990. ,     996. ,     118. ],\n",
       "       [   2015. , 8516502. ,    1009. ,     118. ],\n",
       "       [   2016. , 8537673. ,    1002. ,     117. ],\n",
       "       [   2017. , 8622698. ,     990.2,     115. ]])"
      ]
     },
     "execution_count": 17,
     "metadata": {},
     "output_type": "execute_result"
    }
   ],
   "source": [
    "#Displying the numpy array\n",
    "nyc_water"
   ]
  },
  {
   "cell_type": "markdown",
   "id": "1c6d8a06",
   "metadata": {},
   "source": [
    " Which year had the minimum population amount?"
   ]
  },
  {
   "cell_type": "code",
   "execution_count": 18,
   "id": "fca00548",
   "metadata": {},
   "outputs": [
    {
     "name": "stdout",
     "output_type": "stream",
     "text": [
      "Year :  1980.0\n"
     ]
    }
   ],
   "source": [
    "#Assing the column values to temporary list variables\n",
    "water=nyc_water[:,1]\n",
    "year=nyc_water[:,0]\n",
    "#Storing the mininum water consumption in x \n",
    "x=water.min()\n",
    "#Looping to find the index position of the minimum consuption and printing the year at the same index position\n",
    "for i in range(len(water)):\n",
    "    if water[i]==x :\n",
    "        print('Year : ',year[i])"
   ]
  },
  {
   "cell_type": "markdown",
   "id": "a34654b1",
   "metadata": {},
   "source": [
    " Add a new column to the numpy array containing the total annual water consumption for the city (in millions of gallons of water and assuming a 365 day calendar year)."
   ]
  },
  {
   "cell_type": "code",
   "execution_count": 19,
   "id": "84e1f979",
   "metadata": {},
   "outputs": [],
   "source": [
    "#Calculating the annual water consuption and inserting the created numpy array to nyc_water\n",
    "calc = nyc_water[:,2]*365/1000000\n",
    "nyc_water=np.insert(nyc_water,4,calc,axis=1)"
   ]
  },
  {
   "cell_type": "code",
   "execution_count": 20,
   "id": "4bcde96e",
   "metadata": {},
   "outputs": [
    {
     "data": {
      "text/plain": [
       "array([[   1979.       , 7102100.       ,    1512.       ,\n",
       "            213.       ,       0.55188  ],\n",
       "       [   1980.       , 7071639.       ,    1506.       ,\n",
       "            213.       ,       0.54969  ],\n",
       "       [   1981.       , 7089241.       ,    1309.       ,\n",
       "            185.       ,       0.477785 ],\n",
       "       [   1982.       , 7109105.       ,    1382.       ,\n",
       "            194.       ,       0.50443  ],\n",
       "       [   1983.       , 7181224.       ,    1424.       ,\n",
       "            198.       ,       0.51976  ],\n",
       "       [   1984.       , 7234514.       ,    1465.       ,\n",
       "            203.       ,       0.534725 ],\n",
       "       [   1985.       , 7274054.       ,    1326.       ,\n",
       "            182.       ,       0.48399  ],\n",
       "       [   1986.       , 7319246.       ,    1351.       ,\n",
       "            185.       ,       0.493115 ],\n",
       "       [   1987.       , 7342476.       ,    1447.       ,\n",
       "            197.       ,       0.528155 ],\n",
       "       [   1988.       , 7353719.       ,    1484.       ,\n",
       "            202.       ,       0.54166  ],\n",
       "       [   1989.       , 7344175.       ,    1402.       ,\n",
       "            191.       ,       0.51173  ],\n",
       "       [   1990.       , 7335650.       ,    1424.       ,\n",
       "            194.       ,       0.51976  ],\n",
       "       [   1991.       , 7374501.       ,    1469.       ,\n",
       "            199.       ,       0.536185 ],\n",
       "       [   1992.       , 7428944.       ,    1369.       ,\n",
       "            184.       ,       0.499685 ],\n",
       "       [   1993.       , 7506166.       ,    1368.5      ,\n",
       "            182.       ,       0.4995025],\n",
       "       [   1994.       , 7570458.       ,    1357.7      ,\n",
       "            179.       ,       0.4955605],\n",
       "       [   1995.       , 7633040.       ,    1325.7      ,\n",
       "            174.       ,       0.4838805],\n",
       "       [   1996.       , 7697812.       ,    1297.9      ,\n",
       "            169.       ,       0.4737335],\n",
       "       [   1997.       , 7773443.       ,    1205.5      ,\n",
       "            155.       ,       0.4400075],\n",
       "       [   1998.       , 7858259.       ,    1219.5      ,\n",
       "            155.       ,       0.4451175],\n",
       "       [   1999.       , 7947660.       ,    1237.2      ,\n",
       "            156.       ,       0.451578 ],\n",
       "       [   2000.       , 8008278.       ,    1240.4      ,\n",
       "            155.       ,       0.452746 ],\n",
       "       [   2001.       , 8024963.5      ,    1184.       ,\n",
       "            148.       ,       0.43216  ],\n",
       "       [   2002.       , 8041649.       ,    1135.6      ,\n",
       "            141.       ,       0.414494 ],\n",
       "       [   2003.       , 8058334.5      ,    1093.7      ,\n",
       "            136.       ,       0.3992005],\n",
       "       [   2004.       , 8075020.       ,    1099.5      ,\n",
       "            136.       ,       0.4013175],\n",
       "       [   2005.       , 8091705.5      ,    1138.       ,\n",
       "            141.       ,       0.41537  ],\n",
       "       [   2006.       , 8108391.       ,    1069.       ,\n",
       "            132.       ,       0.390185 ],\n",
       "       [   2007.       , 8125076.5      ,    1114.       ,\n",
       "            137.       ,       0.40661  ],\n",
       "       [   2008.       , 8141762.       ,    1098.       ,\n",
       "            135.       ,       0.40077  ],\n",
       "       [   2009.       , 8158447.5      ,    1007.5      ,\n",
       "            123.       ,       0.3677375],\n",
       "       [   2010.       , 8175133.       ,    1039.       ,\n",
       "            127.       ,       0.379235 ],\n",
       "       [   2011.       , 8284098.       ,    1021.       ,\n",
       "            123.       ,       0.372665 ],\n",
       "       [   2012.       , 8361179.       ,    1009.1      ,\n",
       "            121.       ,       0.3683215],\n",
       "       [   2013.       , 8422460.       ,    1006.1      ,\n",
       "            119.       ,       0.3672265],\n",
       "       [   2014.       , 8471990.       ,     996.       ,\n",
       "            118.       ,       0.36354  ],\n",
       "       [   2015.       , 8516502.       ,    1009.       ,\n",
       "            118.       ,       0.368285 ],\n",
       "       [   2016.       , 8537673.       ,    1002.       ,\n",
       "            117.       ,       0.36573  ],\n",
       "       [   2017.       , 8622698.       ,     990.2      ,\n",
       "            115.       ,       0.361423 ]])"
      ]
     },
     "execution_count": 20,
     "metadata": {},
     "output_type": "execute_result"
    }
   ],
   "source": [
    "#Displying the numpy array\n",
    "nyc_water"
   ]
  },
  {
   "cell_type": "markdown",
   "id": "23235701",
   "metadata": {},
   "source": [
    " What is the median and the variance of the NYC daily water consumption metric?\n",
    "\n"
   ]
  },
  {
   "cell_type": "code",
   "execution_count": 21,
   "id": "a06b0e7c",
   "metadata": {},
   "outputs": [
    {
     "data": {
      "text/plain": [
       "1237.2"
      ]
     },
     "execution_count": 21,
     "metadata": {},
     "output_type": "execute_result"
    }
   ],
   "source": [
    "#Displying the median \n",
    "np.median(nyc_water[:,2])"
   ]
  },
  {
   "cell_type": "code",
   "execution_count": 22,
   "id": "1644a46b",
   "metadata": {},
   "outputs": [
    {
     "data": {
      "text/plain": [
       "29744.87353057199"
      ]
     },
     "execution_count": 22,
     "metadata": {},
     "output_type": "execute_result"
    }
   ],
   "source": [
    "np.var(nyc_water[:,2])"
   ]
  },
  {
   "cell_type": "markdown",
   "id": "788c0712",
   "metadata": {},
   "source": [
    " What is the increase or decrease in total annual water consumption from year to year? (HINT: Your output should include the calculation of a data value for every year represented within the data set except for the first year).\n",
    "\n",
    "Please note that it may take a bit of time for Jupyter to load the data set from your GitHub repository. You will know that process has finished once the results of the ‘type(nyc_water)’ command get displayed within your copy of the notebook."
   ]
  },
  {
   "cell_type": "code",
   "execution_count": 23,
   "id": "3587c8e4",
   "metadata": {},
   "outputs": [],
   "source": [
    "x_indec_water=[]\n",
    "x_indec_water.append(0)\n"
   ]
  },
  {
   "cell_type": "code",
   "execution_count": 24,
   "id": "4b9131d7",
   "metadata": {},
   "outputs": [],
   "source": [
    "for i in range(1,len(nyc_water[:,4])):\n",
    "        x_indec_water.append((nyc_water[:,4][i]-nyc_water[:,4][i-1]))"
   ]
  },
  {
   "cell_type": "code",
   "execution_count": 25,
   "id": "00cf039e",
   "metadata": {},
   "outputs": [],
   "source": [
    "x_indec_water=np.array(x_indec_water)"
   ]
  },
  {
   "cell_type": "code",
   "execution_count": 26,
   "id": "27d7bc87",
   "metadata": {},
   "outputs": [
    {
     "data": {
      "text/plain": [
       "array([ 0.       , -0.00219  , -0.071905 ,  0.026645 ,  0.01533  ,\n",
       "        0.014965 , -0.050735 ,  0.009125 ,  0.03504  ,  0.013505 ,\n",
       "       -0.02993  ,  0.00803  ,  0.016425 , -0.0365   , -0.0001825,\n",
       "       -0.003942 , -0.01168  , -0.010147 , -0.033726 ,  0.00511  ,\n",
       "        0.0064605,  0.001168 , -0.020586 , -0.017666 , -0.0152935,\n",
       "        0.002117 ,  0.0140525, -0.025185 ,  0.016425 , -0.00584  ,\n",
       "       -0.0330325,  0.0114975, -0.00657  , -0.0043435, -0.001095 ,\n",
       "       -0.0036865,  0.004745 , -0.002555 , -0.004307 ])"
      ]
     },
     "execution_count": 26,
     "metadata": {},
     "output_type": "execute_result"
    }
   ],
   "source": [
    "x_indec_water"
   ]
  },
  {
   "cell_type": "code",
   "execution_count": null,
   "id": "0d1a7e29",
   "metadata": {},
   "outputs": [],
   "source": []
  }
 ],
 "metadata": {
  "kernelspec": {
   "display_name": "Python 3 (ipykernel)",
   "language": "python",
   "name": "python3"
  },
  "language_info": {
   "codemirror_mode": {
    "name": "ipython",
    "version": 3
   },
   "file_extension": ".py",
   "mimetype": "text/x-python",
   "name": "python",
   "nbconvert_exporter": "python",
   "pygments_lexer": "ipython3",
   "version": "3.9.13"
  }
 },
 "nbformat": 4,
 "nbformat_minor": 5
}
